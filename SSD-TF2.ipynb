{
  "nbformat": 4,
  "nbformat_minor": 0,
  "metadata": {
    "kernelspec": {
      "name": "python3",
      "display_name": "Python 3"
    },
    "language_info": {
      "codemirror_mode": {
        "name": "ipython",
        "version": 3
      },
      "file_extension": ".py",
      "mimetype": "text/x-python",
      "name": "python",
      "nbconvert_exporter": "python",
      "pygments_lexer": "ipython3",
      "version": "3.6.9"
    },
    "colab": {
      "name": "SSD-TF2.ipynb",
      "provenance": [],
      "collapsed_sections": [],
      "include_colab_link": true
    },
    "accelerator": "GPU"
  },
  "cells": [
    {
      "cell_type": "markdown",
      "metadata": {
        "id": "view-in-github",
        "colab_type": "text"
      },
      "source": [
        "<a href=\"https://colab.research.google.com/github/aniketmaurya/Coviam-Training-Project/blob/master/SSD-TF2.ipynb\" target=\"_parent\"><img src=\"https://colab.research.google.com/assets/colab-badge.svg\" alt=\"Open In Colab\"/></a>"
      ]
    },
    {
      "cell_type": "code",
      "metadata": {
        "id": "K-PlF6Bm-Vl1",
        "colab_type": "code",
        "colab": {}
      },
      "source": [
        "import tensorflow as tf\n",
        "from tensorflow import keras\n",
        "from tensorflow.keras.layers import Dense, Activation, Conv2D, MaxPooling2D, Input, MaxPool2D, Flatten, Softmax\n",
        "from tensorflow.keras import Sequential, layers\n",
        "from tensorflow.keras import Model"
      ],
      "execution_count": 0,
      "outputs": []
    },
    {
      "cell_type": "code",
      "metadata": {
        "id": "I6h3WNwc-Vl7",
        "colab_type": "code",
        "colab": {}
      },
      "source": [
        "input_shape = (300, 300, 3)"
      ],
      "execution_count": 0,
      "outputs": []
    },
    {
      "cell_type": "markdown",
      "metadata": {
        "id": "yYOpocyJ-Vl_",
        "colab_type": "text"
      },
      "source": [
        "## Base Network -> VGG-16"
      ]
    },
    {
      "cell_type": "code",
      "metadata": {
        "id": "64bOR81r-VmA",
        "colab_type": "code",
        "colab": {}
      },
      "source": [
        "tf.keras.backend.clear_session()\n",
        "\n",
        "input_layer = Input(name='input_1', shape=input_shape, dtype='float32')\n",
        "\n",
        "conv1 = Conv2D(filters=64, kernel_size=(3, 3), strides=(1, 1), padding='same', activation='relu', name='conv1')(input_layer)  # (None, 128, 64, 64)\n",
        "conv1_2 = Conv2D(filters=64, kernel_size=(3, 3), strides=(1, 1), padding='same', activation='relu', name='conv1_2')(conv1)\n",
        "Mpool1 = MaxPool2D(2, 2, padding='same', name=\"max_pool1\")(conv1_2)\n",
        "\n",
        "\n",
        "conv2 = Conv2D(filters=128, kernel_size=(3,3), strides=1, padding=\"same\", activation=\"relu\", name=\"conv2\")(Mpool1)\n",
        "conv2_2 = Conv2D(filters=128, kernel_size=(3,3), strides=1, padding=\"same\", activation=\"relu\", name=\"conv2_2\")(conv2)\n",
        "Mpool2 = MaxPool2D(2, 2, padding='same', name=\"max_pool2\")(conv2_2)\n",
        "\n",
        "\n",
        "conv3 = Conv2D(filters=256, kernel_size=(3,3), strides=1, padding=\"same\", activation=\"relu\", name=\"conv3\")(Mpool2)\n",
        "conv3_2 = Conv2D(filters=256, kernel_size=(3,3), strides=1, padding=\"same\", activation=\"relu\", name=\"conv3_2\")(conv3)\n",
        "conv3_3 = Conv2D(filters=256, kernel_size=(3,3), strides=1, padding=\"same\", activation=\"relu\", name=\"conv3_3\")(conv3_2)\n",
        "Mpool3 = MaxPool2D(2, 2, padding='same', name=\"max_pool3\")(conv3_3)\n",
        "\n",
        "\n",
        "conv4 = Conv2D(filters=512, kernel_size=(3,3), strides=1, padding=\"same\", activation=\"relu\", name=\"conv4\")(Mpool3)\n",
        "conv4_2 = Conv2D(filters=512, kernel_size=(3,3), strides=1, padding=\"same\", activation=\"relu\", name=\"conv4_2\")(conv4)\n",
        "conv4_3 = Conv2D(filters=512, kernel_size=(3,3), strides=1, padding=\"same\", activation=\"relu\", name=\"conv4_3\")(conv4_2)\n",
        "Mpool4 = MaxPool2D(2, 2, padding='same', name=\"max_pool4\")(conv4_3)\n",
        "\n",
        "\n",
        "conv5 = Conv2D(filters=512, kernel_size=(3,3), strides=1, padding=\"same\", activation=\"relu\", name=\"conv5\")(Mpool4)\n",
        "conv5_2 = Conv2D(filters=512, kernel_size=(3,3), strides=1, padding=\"same\", activation=\"relu\", name=\"conv5_2\")(conv5)\n",
        "conv5_3 = Conv2D(filters=512, kernel_size=(3,3), strides=1, padding=\"same\", activation=\"relu\", name=\"conv5_3\")(conv5_2)\n",
        "# Mpool5 = MaxPool2D(2, 2, padding='same', name=\"max_pool5\")(conv5_3)\n",
        "\n",
        "\n",
        "# reshape = Flatten()(Mpool5)\n",
        "\n",
        "# FC1 = Dense(4096)(reshape)\n",
        "# FC2 = Dense(4096)(FC1)\n",
        "# FC3 = Dense(1000)(FC2)\n",
        "# output = Softmax()(FC3)\n",
        "conv6 = Conv2D(filters=1024, kernel_size=(1, 1), strides=1, padding=\"same\", activation=\"relu\", name=\"conv6\")(conv5_3)\n",
        "conv7 = Conv2D(filters=1024, kernel_size=(19, 19), strides=1, padding=\"same\", activation=\"relu\", name=\"conv7\")(conv6)"
      ],
      "execution_count": 0,
      "outputs": []
    },
    {
      "cell_type": "markdown",
      "metadata": {
        "id": "tW4AziGQ-VmD",
        "colab_type": "text"
      },
      "source": [
        "## Auxiliary Network"
      ]
    },
    {
      "cell_type": "code",
      "metadata": {
        "id": "7qwCoEhy-VmF",
        "colab_type": "code",
        "colab": {}
      },
      "source": [
        "conv8 = Conv2D(filters=256, kernel_size=(1, 1), strides=1, padding=\"same\", activation=\"relu\", name=\"conv8\")(conv7)\n",
        "conv8_2 = Conv2D(filters=512, kernel_size=(3, 3), strides=2, padding=\"same\",activation=\"relu\", name=\"conv8_2\")(conv8) #s2\n",
        "\n",
        "\n",
        "conv9 = Conv2D(filters=128, kernel_size=(1, 1), strides=1, padding=\"same\", activation=\"relu\", name=\"conv9\")(conv8_2)\n",
        "conv9_2 = Conv2D(filters=256, kernel_size=(3, 3), strides=2, padding=\"same\",activation=\"relu\", name=\"conv9_2\")(conv9) #s2\n",
        "\n",
        "\n",
        "conv10 = Conv2D(filters=128, kernel_size=(1, 1), strides=1, padding=\"valid\", activation=\"relu\", name=\"conv10\")(conv9_2)\n",
        "conv10_2 = Conv2D(filters=256, kernel_size=(3, 3), strides=1, padding=\"valid\",activation=\"relu\", name=\"conv10_2\")(conv10) #s1\n",
        "\n",
        "\n",
        "conv11 = Conv2D(filters=128, kernel_size=(1, 1), strides=1, padding=\"valid\", activation=\"relu\", name=\"conv11\")(conv10_2)\n",
        "conv11_2 = Conv2D(filters=256, kernel_size=(3, 3), strides=1, padding=\"valid\",activation=\"relu\", name=\"conv11_2\")(conv11) #s1\n"
      ],
      "execution_count": 0,
      "outputs": []
    },
    {
      "cell_type": "code",
      "metadata": {
        "id": "0shjQZ37-VmH",
        "colab_type": "code",
        "colab": {}
      },
      "source": [
        "model = Model(input_layer, conv11_2)"
      ],
      "execution_count": 0,
      "outputs": []
    },
    {
      "cell_type": "code",
      "metadata": {
        "id": "N3AZSJUJ-VmK",
        "colab_type": "code",
        "outputId": "ac0d2f42-dd92-4d07-d2b1-3be24b9e65b6",
        "colab": {
          "base_uri": "https://localhost:8080/",
          "height": 1000
        }
      },
      "source": [
        "model.summary()"
      ],
      "execution_count": 13,
      "outputs": [
        {
          "output_type": "stream",
          "text": [
            "Model: \"model\"\n",
            "_________________________________________________________________\n",
            "Layer (type)                 Output Shape              Param #   \n",
            "=================================================================\n",
            "input_1 (InputLayer)         [(None, 300, 300, 3)]     0         \n",
            "_________________________________________________________________\n",
            "conv1 (Conv2D)               (None, 300, 300, 64)      1792      \n",
            "_________________________________________________________________\n",
            "conv1_2 (Conv2D)             (None, 300, 300, 64)      36928     \n",
            "_________________________________________________________________\n",
            "max_pool1 (MaxPooling2D)     (None, 150, 150, 64)      0         \n",
            "_________________________________________________________________\n",
            "conv2 (Conv2D)               (None, 150, 150, 128)     73856     \n",
            "_________________________________________________________________\n",
            "conv2_2 (Conv2D)             (None, 150, 150, 128)     147584    \n",
            "_________________________________________________________________\n",
            "max_pool2 (MaxPooling2D)     (None, 75, 75, 128)       0         \n",
            "_________________________________________________________________\n",
            "conv3 (Conv2D)               (None, 75, 75, 256)       295168    \n",
            "_________________________________________________________________\n",
            "conv3_2 (Conv2D)             (None, 75, 75, 256)       590080    \n",
            "_________________________________________________________________\n",
            "conv3_3 (Conv2D)             (None, 75, 75, 256)       590080    \n",
            "_________________________________________________________________\n",
            "max_pool3 (MaxPooling2D)     (None, 38, 38, 256)       0         \n",
            "_________________________________________________________________\n",
            "conv4 (Conv2D)               (None, 38, 38, 512)       1180160   \n",
            "_________________________________________________________________\n",
            "conv4_2 (Conv2D)             (None, 38, 38, 512)       2359808   \n",
            "_________________________________________________________________\n",
            "conv4_3 (Conv2D)             (None, 38, 38, 512)       2359808   \n",
            "_________________________________________________________________\n",
            "max_pool4 (MaxPooling2D)     (None, 19, 19, 512)       0         \n",
            "_________________________________________________________________\n",
            "conv5 (Conv2D)               (None, 19, 19, 512)       2359808   \n",
            "_________________________________________________________________\n",
            "conv5_2 (Conv2D)             (None, 19, 19, 512)       2359808   \n",
            "_________________________________________________________________\n",
            "conv5_3 (Conv2D)             (None, 19, 19, 512)       2359808   \n",
            "_________________________________________________________________\n",
            "conv6 (Conv2D)               (None, 19, 19, 1024)      525312    \n",
            "_________________________________________________________________\n",
            "conv7 (Conv2D)               (None, 19, 19, 1024)      378536960 \n",
            "_________________________________________________________________\n",
            "conv8 (Conv2D)               (None, 19, 19, 256)       262400    \n",
            "_________________________________________________________________\n",
            "conv8_2 (Conv2D)             (None, 10, 10, 512)       1180160   \n",
            "_________________________________________________________________\n",
            "conv9 (Conv2D)               (None, 10, 10, 128)       65664     \n",
            "_________________________________________________________________\n",
            "conv9_2 (Conv2D)             (None, 5, 5, 256)         295168    \n",
            "_________________________________________________________________\n",
            "conv10 (Conv2D)              (None, 5, 5, 128)         32896     \n",
            "_________________________________________________________________\n",
            "conv10_2 (Conv2D)            (None, 3, 3, 256)         295168    \n",
            "_________________________________________________________________\n",
            "conv11 (Conv2D)              (None, 3, 3, 128)         32896     \n",
            "_________________________________________________________________\n",
            "conv11_2 (Conv2D)            (None, 1, 1, 256)         295168    \n",
            "=================================================================\n",
            "Total params: 396,236,480\n",
            "Trainable params: 396,236,480\n",
            "Non-trainable params: 0\n",
            "_________________________________________________________________\n"
          ],
          "name": "stdout"
        }
      ]
    },
    {
      "cell_type": "code",
      "metadata": {
        "id": "GL3uoG-J-VmN",
        "colab_type": "code",
        "colab": {}
      },
      "source": [
        ""
      ],
      "execution_count": 0,
      "outputs": []
    }
  ]
}